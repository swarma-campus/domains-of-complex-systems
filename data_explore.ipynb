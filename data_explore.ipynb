{
 "cells": [
  {
   "cell_type": "code",
   "execution_count": 2,
   "metadata": {},
   "outputs": [],
   "source": [
    "import numpy as np\n",
    "import pandas as pd\n",
    "import json\n",
    "import matplotlib.pyplot as plt"
   ]
  },
  {
   "cell_type": "code",
   "execution_count": 3,
   "metadata": {},
   "outputs": [],
   "source": [
    "df = pd.read_json('data/paper_term.json',lines=True)"
   ]
  },
  {
   "cell_type": "code",
   "execution_count": 4,
   "metadata": {},
   "outputs": [
    {
     "data": {
      "text/html": [
       "<div>\n",
       "<style scoped>\n",
       "    .dataframe tbody tr th:only-of-type {\n",
       "        vertical-align: middle;\n",
       "    }\n",
       "\n",
       "    .dataframe tbody tr th {\n",
       "        vertical-align: top;\n",
       "    }\n",
       "\n",
       "    .dataframe thead th {\n",
       "        text-align: right;\n",
       "    }\n",
       "</style>\n",
       "<table border=\"1\" class=\"dataframe\">\n",
       "  <thead>\n",
       "    <tr style=\"text-align: right;\">\n",
       "      <th></th>\n",
       "      <th>abstract</th>\n",
       "      <th>term</th>\n",
       "      <th>title</th>\n",
       "      <th>uuid</th>\n",
       "    </tr>\n",
       "  </thead>\n",
       "  <tbody>\n",
       "    <tr>\n",
       "      <th>1247</th>\n",
       "      <td>Collective decisions can emerge from individua...</td>\n",
       "      <td>{' model ': 1, ' information ': 6, ' structure...</td>\n",
       "      <td>Collective decision-making by rational agents ...</td>\n",
       "      <td>24352fe0-9533-11ea-a3f8-0242ac1a000b</td>\n",
       "    </tr>\n",
       "    <tr>\n",
       "      <th>8534</th>\n",
       "      <td>Biofilms are antibiotic-resistant bacterial ...</td>\n",
       "      <td>{' structure ': 1, ' behavior ': 1, ' interact...</td>\n",
       "      <td>Differential growth of wrinkled biofilms</td>\n",
       "      <td>205bbbae-885f-11ea-b132-0242ac1a000b</td>\n",
       "    </tr>\n",
       "    <tr>\n",
       "      <th>11823</th>\n",
       "      <td>Countries highly exposed to incoming traffic...</td>\n",
       "      <td>{' model ': 2, ' time ': 1, ' population ': 1,...</td>\n",
       "      <td>A preceding low-virulence strain pandemic indu...</td>\n",
       "      <td>6bbd61ce-c649-11ea-a162-0242ac1a0008</td>\n",
       "    </tr>\n",
       "  </tbody>\n",
       "</table>\n",
       "</div>"
      ],
      "text/plain": [
       "                                                abstract  \\\n",
       "1247   Collective decisions can emerge from individua...   \n",
       "8534     Biofilms are antibiotic-resistant bacterial ...   \n",
       "11823    Countries highly exposed to incoming traffic...   \n",
       "\n",
       "                                                    term  \\\n",
       "1247   {' model ': 1, ' information ': 6, ' structure...   \n",
       "8534   {' structure ': 1, ' behavior ': 1, ' interact...   \n",
       "11823  {' model ': 2, ' time ': 1, ' population ': 1,...   \n",
       "\n",
       "                                                   title  \\\n",
       "1247   Collective decision-making by rational agents ...   \n",
       "8534            Differential growth of wrinkled biofilms   \n",
       "11823  A preceding low-virulence strain pandemic indu...   \n",
       "\n",
       "                                       uuid  \n",
       "1247   24352fe0-9533-11ea-a3f8-0242ac1a000b  \n",
       "8534   205bbbae-885f-11ea-b132-0242ac1a000b  \n",
       "11823  6bbd61ce-c649-11ea-a162-0242ac1a0008  "
      ]
     },
     "execution_count": 4,
     "metadata": {},
     "output_type": "execute_result"
    }
   ],
   "source": [
    "df.sample(3)"
   ]
  },
  {
   "cell_type": "code",
   "execution_count": 5,
   "metadata": {},
   "outputs": [
    {
     "data": {
      "text/plain": [
       "[<matplotlib.lines.Line2D at 0x209c3777c50>]"
      ]
     },
     "execution_count": 5,
     "metadata": {},
     "output_type": "execute_result"
    },
    {
     "data": {
      "image/png": "[encoded data removed]",
      "text/plain": [
       "<Figure size 432x288 with 1 Axes>"
      ]
     },
     "metadata": {},
     "output_type": "display_data"
    }
   ],
   "source": [
    "df['term_count'] = df['term'].apply(lambda x:len(x))\n",
    "\n",
    "from collections import Counter\n",
    "lyst = list(df['term_count'])\n",
    "counts = dict(sorted(Counter(lyst).items(),key=lambda x:x[0]))\n",
    "\n",
    "plt.plot(list(counts.keys()),list(counts.values()))"
   ]
  },
  {
   "cell_type": "code",
   "execution_count": 6,
   "metadata": {},
   "outputs": [],
   "source": [
    "# 消除嵌套术语\n",
    "def term_reduce(dic):\n",
    "    rst = dic.copy()\n",
    "    for k,v in dic.items():\n",
    "        for k1,v1 in dic.items():\n",
    "            if len(k.split()) < len(k1.split()):\n",
    "                if k.strip() in k1:\n",
    "                    rst[k] = rst[k] - v1\n",
    "    rst = {k:v for k,v in rst.items() if v>0}\n",
    "    return rst"
   ]
  },
  {
   "cell_type": "code",
   "execution_count": 7,
   "metadata": {},
   "outputs": [
    {
     "name": "stdout",
     "output_type": "stream",
     "text": [
      "Wall time: 5.44 s\n"
     ]
    }
   ],
   "source": [
    "%time df['term_reduce'] = df['term'].apply(lambda x:term_reduce(x))"
   ]
  },
  {
   "cell_type": "code",
   "execution_count": 8,
   "metadata": {},
   "outputs": [],
   "source": [
    "paper2term = dict(zip(df['uuid'],df['term_reduce']))"
   ]
  },
  {
   "cell_type": "code",
   "execution_count": 9,
   "metadata": {},
   "outputs": [],
   "source": [
    "### 摘要层级的共现网络\n",
    "import json\n",
    "\n",
    "with open('data/term_tuple_3.json','r') as f:\n",
    "    terms = json.load(f)"
   ]
  },
  {
   "cell_type": "code",
   "execution_count": null,
   "metadata": {},
   "outputs": [],
   "source": [
    "# 每篇术语出现的论文\n",
    "df_term['uuid'] = df_term['term'].apply(lambda x:[l for l in df2term if x in df2term[l]])\n",
    "\n",
    "# 术语共现矩阵(摘要层级)\n",
    "n = len(df_term)\n",
    "co_cur_abstract = np.zeros((n,n))\n",
    "\n",
    "for i,row in df_term.iterrows():\n",
    "    set1 = set(row['uuid'])\n",
    "    for j in range(i+1,n):\n",
    "        set2 = set(df_term.loc[j,'uuid'])\n",
    "        co_cur_abstract[i,j] = len(set1&set2)\n",
    "        co_cur_abstract[j,i] = co_cur_abstract[i,j]\n",
    "    if i%1000==0:\n",
    "        print(i)\n",
    "        \n",
    "np.save('data/cocur_abstract.npy',co_cur_abstract)"
   ]
  },
  {
   "cell_type": "markdown",
   "metadata": {},
   "source": [
    "### 筛选部分论文和术语 2021.01.01"
   ]
  },
  {
   "cell_type": "code",
   "execution_count": 48,
   "metadata": {},
   "outputs": [
    {
     "data": {
      "text/html": [
       "<div>\n",
       "<style scoped>\n",
       "    .dataframe tbody tr th:only-of-type {\n",
       "        vertical-align: middle;\n",
       "    }\n",
       "\n",
       "    .dataframe tbody tr th {\n",
       "        vertical-align: top;\n",
       "    }\n",
       "\n",
       "    .dataframe thead th {\n",
       "        text-align: right;\n",
       "    }\n",
       "</style>\n",
       "<table border=\"1\" class=\"dataframe\">\n",
       "  <thead>\n",
       "    <tr style=\"text-align: right;\">\n",
       "      <th></th>\n",
       "      <th>abstract</th>\n",
       "      <th>term</th>\n",
       "      <th>title</th>\n",
       "      <th>uuid</th>\n",
       "      <th>term_count</th>\n",
       "      <th>term_reduce</th>\n",
       "    </tr>\n",
       "  </thead>\n",
       "  <tbody>\n",
       "    <tr>\n",
       "      <th>13458</th>\n",
       "      <td>Most agent-based models include a social net...</td>\n",
       "      <td>{' network ': 6, ' algorithm ': 2, ' structure...</td>\n",
       "      <td>Small world is not enough: Criteria for networ...</td>\n",
       "      <td>f4669fa0-4da8-11ea-b566-0242ac1a0007</td>\n",
       "      <td>27</td>\n",
       "      <td>{' network ': 1, ' algorithm ': 2, ' structure...</td>\n",
       "    </tr>\n",
       "  </tbody>\n",
       "</table>\n",
       "</div>"
      ],
      "text/plain": [
       "                                                abstract  \\\n",
       "13458    Most agent-based models include a social net...   \n",
       "\n",
       "                                                    term  \\\n",
       "13458  {' network ': 6, ' algorithm ': 2, ' structure...   \n",
       "\n",
       "                                                   title  \\\n",
       "13458  Small world is not enough: Criteria for networ...   \n",
       "\n",
       "                                       uuid  term_count  \\\n",
       "13458  f4669fa0-4da8-11ea-b566-0242ac1a0007          27   \n",
       "\n",
       "                                             term_reduce  \n",
       "13458  {' network ': 1, ' algorithm ': 2, ' structure...  "
      ]
     },
     "execution_count": 48,
     "metadata": {},
     "output_type": "execute_result"
    }
   ],
   "source": [
    "df.sample()"
   ]
  },
  {
   "cell_type": "code",
   "execution_count": 49,
   "metadata": {},
   "outputs": [],
   "source": [
    "lyst = [l[2] for l in terms.values()]"
   ]
  },
  {
   "cell_type": "code",
   "execution_count": 50,
   "metadata": {},
   "outputs": [
    {
     "data": {
      "text/plain": [
       "(array([1.000e+00, 1.400e+01, 1.025e+03, 7.148e+03, 2.943e+03, 1.034e+03,\n",
       "        2.437e+03, 2.220e+02, 1.010e+02, 1.400e+01]),\n",
       " array([0.23373168, 0.30249601, 0.37126033, 0.44002466, 0.50878899,\n",
       "        0.57755331, 0.64631764, 0.71508196, 0.78384629, 0.85261062,\n",
       "        0.92137494]),\n",
       " <a list of 10 Patch objects>)"
      ]
     },
     "execution_count": 50,
     "metadata": {},
     "output_type": "execute_result"
    },
    {
     "data": {
      "image/png": "[encoded data removed]",
      "text/plain": [
       "<Figure size 432x288 with 1 Axes>"
      ]
     },
     "metadata": {},
     "output_type": "display_data"
    }
   ],
   "source": [
    "plt.hist(lyst)"
   ]
  },
  {
   "cell_type": "code",
   "execution_count": 51,
   "metadata": {},
   "outputs": [
    {
     "name": "stdout",
     "output_type": "stream",
     "text": [
      " result  [6324, 3076, 0.8629008439]\n",
      " analysis  [5012, 1293, 0.8570705895]\n",
      " paper  [4180, 3241, 0.8903500626]\n",
      " structure  [4289, 680, 0.8515560773]\n",
      " property  [2701, 475, 0.8564466101]\n",
      " function  [2887, 521, 0.8588077040000001]\n",
      " term  [1536, 953, 0.8930071927000001]\n",
      " gap  [398, 163, 0.8552065990000001]\n",
      " aim  [438, 172, 0.9036636195000001]\n",
      " nature  [859, 386, 0.8812688093000001]\n",
      "numerical simulation [477, 335, 0.9213749414]\n",
      "case study [307, 185, 0.8654548375000001]\n",
      "large number [300, 249, 0.9043175903]\n",
      "real world [192, 77, 0.8588423618000001]\n",
      "numerical experiment [112, 94, 0.8574090119000001]\n",
      "\n",
      "\n",
      " model  [17647, 2674, 0.6680431186]\n",
      " network  [20189, 1989, 0.5834253493]\n",
      " dynamic  [7387, 1324, 0.7640142064000001]\n",
      " system  [10781, 1562, 0.6856325257]\n",
      " time  [6105, 1440, 0.8086238801000001]\n",
      " result  [6324, 3076, 0.8629008439]\n",
      " analysis  [5012, 1293, 0.8570705895]\n",
      " paper  [4180, 3241, 0.8903500626]\n",
      " approach  [4973, 1164, 0.8254729325]\n",
      " number  [3916, 1445, 0.7734961371]\n",
      " method  [6660, 1566, 0.7537031795]\n",
      " problem  [4063, 1099, 0.7960463432]\n",
      " node  [3907, 1085, 0.5949870456]\n",
      " study  [5759, 1366, 0.8318061878]\n",
      " case  [3091, 1019, 0.8418849782000001]\n",
      " effect  [3086, 1142, 0.8140280940000001]\n"
     ]
    }
   ],
   "source": [
    "# 删掉部分一般性术语   可以根据几何分布参数和出现过的论文篇数来调整\n",
    "#(1) 几何分布参数大于0.85\n",
    "del_terms = []\n",
    "for k,v in terms.items():\n",
    "    if v[2]>0.85:\n",
    "        del_terms.append(k)\n",
    "        print(k,v)\n",
    "print('\\n')        \n",
    "#（2） 出现过的论文篇数大于1000\n",
    "for k,v in terms.items():\n",
    "    if v[1]>1000:\n",
    "        del_terms.append(k)\n",
    "        print(k,v)"
   ]
  },
  {
   "cell_type": "code",
   "execution_count": 52,
   "metadata": {},
   "outputs": [
    {
     "name": "stdout",
     "output_type": "stream",
     "text": [
      "出现22个术语的论文数量最多\n"
     ]
    },
    {
     "data": {
      "text/plain": [
       "(5921, 6)"
      ]
     },
     "execution_count": 52,
     "metadata": {},
     "output_type": "execute_result"
    }
   ],
   "source": [
    "# 选取论文（使得论文中术语的数量不太少或太多）\n",
    "mode = 0\n",
    "for k,v in counts.items():\n",
    "    if v == max(counts.values()):\n",
    "        mode = k\n",
    "print(f'出现{mode}个术语的论文数量最多')\n",
    "\n",
    "df_demo = df[(df['term_count']>mode-5)&(df['term_count']<mode+5)].copy()\n",
    "df_demo.shape"
   ]
  },
  {
   "cell_type": "code",
   "execution_count": 53,
   "metadata": {},
   "outputs": [],
   "source": [
    "df_demo['term_reduce'] = df_demo['term_reduce'].apply(lambda x:[k for k in x if k not in del_terms])"
   ]
  },
  {
   "cell_type": "code",
   "execution_count": 54,
   "metadata": {},
   "outputs": [
    {
     "data": {
      "text/html": [
       "<div>\n",
       "<style scoped>\n",
       "    .dataframe tbody tr th:only-of-type {\n",
       "        vertical-align: middle;\n",
       "    }\n",
       "\n",
       "    .dataframe tbody tr th {\n",
       "        vertical-align: top;\n",
       "    }\n",
       "\n",
       "    .dataframe thead th {\n",
       "        text-align: right;\n",
       "    }\n",
       "</style>\n",
       "<table border=\"1\" class=\"dataframe\">\n",
       "  <thead>\n",
       "    <tr style=\"text-align: right;\">\n",
       "      <th></th>\n",
       "      <th>abstract</th>\n",
       "      <th>term</th>\n",
       "      <th>title</th>\n",
       "      <th>uuid</th>\n",
       "      <th>term_count</th>\n",
       "      <th>term_reduce</th>\n",
       "    </tr>\n",
       "  </thead>\n",
       "  <tbody>\n",
       "    <tr>\n",
       "      <th>13708</th>\n",
       "      <td>We consider the problem of a semiclassical d...</td>\n",
       "      <td>{' approach ': 1, ' number ': 1, ' problem ': ...</td>\n",
       "      <td>Semiclassical treatment of quantum chaotic tra...</td>\n",
       "      <td>6b277328-e113-11ea-bad9-0242ac1a000a</td>\n",
       "      <td>19</td>\n",
       "      <td>[ probability ,  quantum ,  transport ,  treat...</td>\n",
       "    </tr>\n",
       "  </tbody>\n",
       "</table>\n",
       "</div>"
      ],
      "text/plain": [
       "                                                abstract  \\\n",
       "13708    We consider the problem of a semiclassical d...   \n",
       "\n",
       "                                                    term  \\\n",
       "13708  {' approach ': 1, ' number ': 1, ' problem ': ...   \n",
       "\n",
       "                                                   title  \\\n",
       "13708  Semiclassical treatment of quantum chaotic tra...   \n",
       "\n",
       "                                       uuid  term_count  \\\n",
       "13708  6b277328-e113-11ea-bad9-0242ac1a000a          19   \n",
       "\n",
       "                                             term_reduce  \n",
       "13708  [ probability ,  quantum ,  transport ,  treat...  "
      ]
     },
     "execution_count": 54,
     "metadata": {},
     "output_type": "execute_result"
    }
   ],
   "source": [
    "df_demo.sample()"
   ]
  },
  {
   "cell_type": "code",
   "execution_count": 63,
   "metadata": {},
   "outputs": [
    {
     "name": "stdout",
     "output_type": "stream",
     "text": [
      "Wall time: 1.31 s\n"
     ]
    }
   ],
   "source": [
    "# 用向量表示\n",
    "term2id = {}\n",
    "i = 0\n",
    "for item in df_demo['term_reduce']:\n",
    "    for l in item:\n",
    "        if l not in term2id:\n",
    "            term2id[l] = i\n",
    "            i += 1\n",
    "\n",
    "def one_hot(term_lyst,term2id):\n",
    "    lyst = [term2id[l] for l in term_lyst]\n",
    "    one_hot = np.zeros(len(term2id))\n",
    "    for l in lyst:\n",
    "        one_hot[l]=1\n",
    "    return one_hot\n",
    "        \n",
    "%time df_demo['vector'] = df_demo.apply(lambda x:one_hot(x['term_reduce'],term2id),axis=1)"
   ]
  },
  {
   "cell_type": "code",
   "execution_count": 65,
   "metadata": {},
   "outputs": [
    {
     "data": {
      "text/html": [
       "<div>\n",
       "<style scoped>\n",
       "    .dataframe tbody tr th:only-of-type {\n",
       "        vertical-align: middle;\n",
       "    }\n",
       "\n",
       "    .dataframe tbody tr th {\n",
       "        vertical-align: top;\n",
       "    }\n",
       "\n",
       "    .dataframe thead th {\n",
       "        text-align: right;\n",
       "    }\n",
       "</style>\n",
       "<table border=\"1\" class=\"dataframe\">\n",
       "  <thead>\n",
       "    <tr style=\"text-align: right;\">\n",
       "      <th></th>\n",
       "      <th>abstract</th>\n",
       "      <th>term</th>\n",
       "      <th>title</th>\n",
       "      <th>uuid</th>\n",
       "      <th>term_count</th>\n",
       "      <th>term_reduce</th>\n",
       "      <th>vector</th>\n",
       "    </tr>\n",
       "  </thead>\n",
       "  <tbody>\n",
       "    <tr>\n",
       "      <th>5197</th>\n",
       "      <td>Quantifying lumbar back motion during functi...</td>\n",
       "      <td>{' system ': 4, ' analysis ': 1, ' study ': 2,...</td>\n",
       "      <td>Measuring lumbar back motion during functional...</td>\n",
       "      <td>1bb17050-88b2-11ea-b132-0242ac1a000b</td>\n",
       "      <td>26</td>\n",
       "      <td>[ research ,  motion ,  measurement ,  movemen...</td>\n",
       "      <td>[0.0, 0.0, 0.0, 0.0, 0.0, 0.0, 0.0, 0.0, 0.0, ...</td>\n",
       "    </tr>\n",
       "    <tr>\n",
       "      <th>2544</th>\n",
       "      <td>Adversarial formulations in machine learning...</td>\n",
       "      <td>{' analysis ': 1, ' approach ': 1, ' method ':...</td>\n",
       "      <td>LEAD: Least-Action Dynamics for Min-Max Optimi...</td>\n",
       "      <td>33afa528-18db-11eb-a743-0242ac1a000c</td>\n",
       "      <td>20</td>\n",
       "      <td>[ research ,  impact ,  type ,  convergence , ...</td>\n",
       "      <td>[0.0, 0.0, 0.0, 1.0, 0.0, 0.0, 0.0, 0.0, 1.0, ...</td>\n",
       "    </tr>\n",
       "    <tr>\n",
       "      <th>6078</th>\n",
       "      <td>We analyze an intermediate collective regime...</td>\n",
       "      <td>{' phase ': 2, ' evolution ': 1, ' transition ...</td>\n",
       "      <td>From phase to amplitude oscillators</td>\n",
       "      <td>cf3326f4-88b3-11ea-b132-0242ac1a000b</td>\n",
       "      <td>26</td>\n",
       "      <td>[ phase ,  evolution ,  transition ,  relation...</td>\n",
       "      <td>[0.0, 0.0, 0.0, 0.0, 0.0, 0.0, 0.0, 0.0, 0.0, ...</td>\n",
       "    </tr>\n",
       "  </tbody>\n",
       "</table>\n",
       "</div>"
      ],
      "text/plain": [
       "                                               abstract  \\\n",
       "5197    Quantifying lumbar back motion during functi...   \n",
       "2544    Adversarial formulations in machine learning...   \n",
       "6078    We analyze an intermediate collective regime...   \n",
       "\n",
       "                                                   term  \\\n",
       "5197  {' system ': 4, ' analysis ': 1, ' study ': 2,...   \n",
       "2544  {' analysis ': 1, ' approach ': 1, ' method ':...   \n",
       "6078  {' phase ': 2, ' evolution ': 1, ' transition ...   \n",
       "\n",
       "                                                  title  \\\n",
       "5197  Measuring lumbar back motion during functional...   \n",
       "2544  LEAD: Least-Action Dynamics for Min-Max Optimi...   \n",
       "6078                From phase to amplitude oscillators   \n",
       "\n",
       "                                      uuid  term_count  \\\n",
       "5197  1bb17050-88b2-11ea-b132-0242ac1a000b          26   \n",
       "2544  33afa528-18db-11eb-a743-0242ac1a000c          20   \n",
       "6078  cf3326f4-88b3-11ea-b132-0242ac1a000b          26   \n",
       "\n",
       "                                            term_reduce  \\\n",
       "5197  [ research ,  motion ,  measurement ,  movemen...   \n",
       "2544  [ research ,  impact ,  type ,  convergence , ...   \n",
       "6078  [ phase ,  evolution ,  transition ,  relation...   \n",
       "\n",
       "                                                 vector  \n",
       "5197  [0.0, 0.0, 0.0, 0.0, 0.0, 0.0, 0.0, 0.0, 0.0, ...  \n",
       "2544  [0.0, 0.0, 0.0, 1.0, 0.0, 0.0, 0.0, 0.0, 1.0, ...  \n",
       "6078  [0.0, 0.0, 0.0, 0.0, 0.0, 0.0, 0.0, 0.0, 0.0, ...  "
      ]
     },
     "execution_count": 65,
     "metadata": {},
     "output_type": "execute_result"
    }
   ],
   "source": [
    "df_demo.sample(3)"
   ]
  },
  {
   "cell_type": "code",
   "execution_count": 66,
   "metadata": {},
   "outputs": [],
   "source": [
    "df_demo.to_json('paper_with_term.json',orient='records',lines=True)"
   ]
  },
  {
   "cell_type": "code",
   "execution_count": null,
   "metadata": {},
   "outputs": [],
   "source": []
  }
 ],
 "metadata": {
  "kernelspec": {
   "display_name": "Python 3",
   "language": "python",
   "name": "python3"
  },
  "language_info": {
   "codemirror_mode": {
    "name": "ipython",
    "version": 3
   },
   "file_extension": ".py",
   "mimetype": "text/x-python",
   "name": "python",
   "nbconvert_exporter": "python",
   "pygments_lexer": "ipython3",
   "version": "3.6.5"
  }
 },
 "nbformat": 4,
 "nbformat_minor": 2
}
