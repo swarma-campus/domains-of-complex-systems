{
 "cells": [
  {
   "cell_type": "code",
   "execution_count": 2,
   "metadata": {},
   "outputs": [],
   "source": [
    "import numpy as np\n",
    "import pandas as pd\n",
    "import json\n",
    "import matplotlib.pyplot as plt"
   ]
  },
  {
   "cell_type": "code",
   "execution_count": 6,
   "metadata": {},
   "outputs": [],
   "source": [
    "df = pd.read_json('data/paper_term.json',lines=True)"
   ]
  },
  {
   "cell_type": "code",
   "execution_count": 7,
   "metadata": {},
   "outputs": [
    {
     "data": {
      "text/html": [
       "<div>\n",
       "<style scoped>\n",
       "    .dataframe tbody tr th:only-of-type {\n",
       "        vertical-align: middle;\n",
       "    }\n",
       "\n",
       "    .dataframe tbody tr th {\n",
       "        vertical-align: top;\n",
       "    }\n",
       "\n",
       "    .dataframe thead th {\n",
       "        text-align: right;\n",
       "    }\n",
       "</style>\n",
       "<table border=\"1\" class=\"dataframe\">\n",
       "  <thead>\n",
       "    <tr style=\"text-align: right;\">\n",
       "      <th></th>\n",
       "      <th>abstract</th>\n",
       "      <th>term</th>\n",
       "      <th>title</th>\n",
       "      <th>uuid</th>\n",
       "    </tr>\n",
       "  </thead>\n",
       "  <tbody>\n",
       "    <tr>\n",
       "      <th>10061</th>\n",
       "      <td>In this study we investigate a data-driven s...</td>\n",
       "      <td>{' model ': 3, ' number ': 3, ' structure ': 1...</td>\n",
       "      <td>Stochastic parameterization with VARX processes</td>\n",
       "      <td>3f9d5196-0922-11eb-90ee-0242ac1a000c</td>\n",
       "    </tr>\n",
       "    <tr>\n",
       "      <th>13853</th>\n",
       "      <td>Aims: Nonpharmaceutical interventions agains...</td>\n",
       "      <td>{' data ': 1, ' time ': 1, ' study ': 1, ' cas...</td>\n",
       "      <td>Change points in the spread of COVID-19 questi...</td>\n",
       "      <td>8b4ddd70-aebb-11ea-b9e4-0242ac1a000b</td>\n",
       "    </tr>\n",
       "    <tr>\n",
       "      <th>13251</th>\n",
       "      <td>The concept of smart grid has been introduce...</td>\n",
       "      <td>{' approach ': 1, ' number ': 2, ' research ':...</td>\n",
       "      <td>Blockchain for Future Smart Grid: A Comprehens...</td>\n",
       "      <td>4548ea24-9938-11ea-9ac8-0242ac1a000b</td>\n",
       "    </tr>\n",
       "  </tbody>\n",
       "</table>\n",
       "</div>"
      ],
      "text/plain": [
       "                                                abstract  \\\n",
       "10061    In this study we investigate a data-driven s...   \n",
       "13853    Aims: Nonpharmaceutical interventions agains...   \n",
       "13251    The concept of smart grid has been introduce...   \n",
       "\n",
       "                                                    term  \\\n",
       "10061  {' model ': 3, ' number ': 3, ' structure ': 1...   \n",
       "13853  {' data ': 1, ' time ': 1, ' study ': 1, ' cas...   \n",
       "13251  {' approach ': 1, ' number ': 2, ' research ':...   \n",
       "\n",
       "                                                   title  \\\n",
       "10061    Stochastic parameterization with VARX processes   \n",
       "13853  Change points in the spread of COVID-19 questi...   \n",
       "13251  Blockchain for Future Smart Grid: A Comprehens...   \n",
       "\n",
       "                                       uuid  \n",
       "10061  3f9d5196-0922-11eb-90ee-0242ac1a000c  \n",
       "13853  8b4ddd70-aebb-11ea-b9e4-0242ac1a000b  \n",
       "13251  4548ea24-9938-11ea-9ac8-0242ac1a000b  "
      ]
     },
     "execution_count": 7,
     "metadata": {},
     "output_type": "execute_result"
    }
   ],
   "source": [
    "df.sample(3)"
   ]
  },
  {
   "cell_type": "code",
   "execution_count": 8,
   "metadata": {},
   "outputs": [
    {
     "data": {
      "text/plain": [
       "[<matplotlib.lines.Line2D at 0x28675aa53c8>]"
      ]
     },
     "execution_count": 8,
     "metadata": {},
     "output_type": "execute_result"
    },
    {
     "data": {
      "image/png": "[encoded data removed]",
      "text/plain": [
       "<Figure size 432x288 with 1 Axes>"
      ]
     },
     "metadata": {},
     "output_type": "display_data"
    }
   ],
   "source": [
    "df['term_count'] = df['term'].apply(lambda x:len(x))\n",
    "\n",
    "from collections import Counter\n",
    "lyst = list(df['term_count'])\n",
    "counts = dict(sorted(Counter(lyst).items(),key=lambda x:x[0]))\n",
    "\n",
    "plt.plot(list(counts.keys()),list(counts.values()))"
   ]
  },
  {
   "cell_type": "code",
   "execution_count": 9,
   "metadata": {},
   "outputs": [],
   "source": [
    "# 消除嵌套术语\n",
    "def term_reduce(dic):\n",
    "    rst = dic.copy()\n",
    "    for k,v in dic.items():\n",
    "        for k1,v1 in dic.items():\n",
    "            if len(k.split()) < len(k1.split()):\n",
    "                if k.strip() in k1:\n",
    "                    rst[k] = rst[k] - v1\n",
    "    rst = {k:v for k,v in rst.items() if v>0}\n",
    "    return rst"
   ]
  },
  {
   "cell_type": "code",
   "execution_count": 10,
   "metadata": {},
   "outputs": [
    {
     "name": "stdout",
     "output_type": "stream",
     "text": [
      "Wall time: 8.69 s\n"
     ]
    }
   ],
   "source": [
    "%time df['term_reduce'] = df['term'].apply(lambda x:term_reduce(x))"
   ]
  },
  {
   "cell_type": "code",
   "execution_count": 13,
   "metadata": {},
   "outputs": [],
   "source": [
    "paper2term = dict(zip(df['uuid'],df['term_reduce']))"
   ]
  },
  {
   "cell_type": "code",
   "execution_count": 12,
   "metadata": {},
   "outputs": [],
   "source": [
    "### 摘要层级的共现网络\n",
    "import json\n",
    "\n",
    "with open('data/term_tuple_3.json','r') as f:\n",
    "    terms = json.load(f)"
   ]
  },
  {
   "cell_type": "code",
   "execution_count": null,
   "metadata": {},
   "outputs": [],
   "source": [
    "# 每篇术语出现的论文\n",
    "df_term['uuid'] = df_term['term'].apply(lambda x:[l for l in df2term if x in df2term[l]])\n",
    "\n",
    "# 术语共现矩阵(摘要层级)\n",
    "n = len(df_term)\n",
    "co_cur_abstract = np.zeros((n,n))\n",
    "\n",
    "for i,row in df_term.iterrows():\n",
    "    set1 = set(row['uuid'])\n",
    "    for j in range(i+1,n):\n",
    "        set2 = set(df_term.loc[j,'uuid'])\n",
    "        co_cur_abstract[i,j] = len(set1&set2)\n",
    "        co_cur_abstract[j,i] = co_cur_abstract[i,j]\n",
    "    if i%1000==0:\n",
    "        print(i)\n",
    "        \n",
    "np.save('data/cocur_abstract.npy',co_cur_abstract)"
   ]
  }
 ],
 "metadata": {
  "kernelspec": {
   "display_name": "Python 3",
   "language": "python",
   "name": "python3"
  },
  "language_info": {
   "codemirror_mode": {
    "name": "ipython",
    "version": 3
   },
   "file_extension": ".py",
   "mimetype": "text/x-python",
   "name": "python",
   "nbconvert_exporter": "python",
   "pygments_lexer": "ipython3",
   "version": "3.6.5"
  }
 },
 "nbformat": 4,
 "nbformat_minor": 2
}
